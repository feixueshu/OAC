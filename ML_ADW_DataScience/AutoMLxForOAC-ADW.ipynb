{
 "cells": [
  {
   "cell_type": "markdown",
   "id": "70e9f2ff-a223-42d1-b02a-cab26caef609",
   "metadata": {},
   "source": [
    "### OCI Data Science - Useful Tips\n",
    "<details>\n",
    "<summary><font size=\"2\">Check for Public Internet Access</font></summary>\n",
    "\n",
    "```python\n",
    "import requests\n",
    "response = requests.get(\"https://oracle.com\")\n",
    "assert response.status_code==200, \"Internet connection failed\"\n",
    "```\n",
    "</details>\n",
    "<details>\n",
    "<summary><font size=\"2\">Helpful Documentation </font></summary>\n",
    "<ul><li><a href=\"https://docs.cloud.oracle.com/en-us/iaas/data-science/using/data-science.htm\">Data Science Service Documentation</a></li>\n",
    "<li><a href=\"https://docs.cloud.oracle.com/iaas/tools/ads-sdk/latest/index.html\">ADS documentation</a></li>\n",
    "</ul>\n",
    "</details>\n",
    "<details>\n",
    "<summary><font size=\"2\">Typical Cell Imports and Settings for ADS</font></summary>\n",
    "\n",
    "```python\n",
    "%load_ext autoreload\n",
    "%autoreload 2\n",
    "%matplotlib inline\n",
    "\n",
    "import warnings\n",
    "warnings.filterwarnings('ignore')\n",
    "\n",
    "import logging\n",
    "logging.basicConfig(format='%(levelname)s:%(message)s', level=logging.ERROR)\n",
    "\n",
    "import ads\n",
    "from ads.dataset.factory import DatasetFactory\n",
    "from ads.automl.provider import OracleAutoMLProvider\n",
    "from ads.automl.driver import AutoML\n",
    "from ads.evaluations.evaluator import ADSEvaluator\n",
    "from ads.common.data import ADSData\n",
    "from ads.explanations.explainer import ADSExplainer\n",
    "from ads.explanations.mlx_global_explainer import MLXGlobalExplainer\n",
    "from ads.explanations.mlx_local_explainer import MLXLocalExplainer\n",
    "from ads.catalog.model import ModelCatalog\n",
    "from ads.common.model_artifact import ModelArtifact\n",
    "```\n",
    "</details>\n",
    "<details>\n",
    "<summary><font size=\"2\">Useful Environment Variables</font></summary>\n",
    "\n",
    "```python\n",
    "import os\n",
    "print(os.environ[\"NB_SESSION_COMPARTMENT_OCID\"])\n",
    "print(os.environ[\"PROJECT_OCID\"])\n",
    "print(os.environ[\"USER_OCID\"])\n",
    "print(os.environ[\"TENANCY_OCID\"])\n",
    "print(os.environ[\"NB_REGION\"])\n",
    "```\n",
    "</details>"
   ]
  },
  {
   "cell_type": "code",
   "execution_count": 1,
   "id": "03d2aa4b-6ea5-40c2-8263-f6662ec1c446",
   "metadata": {
    "tags": []
   },
   "outputs": [],
   "source": [
    "import requests\n",
    "response = requests.get(\"https://oracle.com\")\n",
    "assert response.status_code==200, \"Internet connection failed\""
   ]
  },
  {
   "cell_type": "code",
   "execution_count": 2,
   "id": "f189bb9f-9f7b-47f2-ba96-95ed42f709d2",
   "metadata": {},
   "outputs": [],
   "source": [
    "import pandas as pd\n",
    "import numpy as np\n",
    "\n",
    "from sklearn.metrics import roc_auc_score, confusion_matrix, make_scorer, f1_score\n",
    "from sklearn.model_selection import train_test_split\n",
    "\n",
    "import automlx\n",
    "from automlx import init"
   ]
  },
  {
   "cell_type": "code",
   "execution_count": 3,
   "id": "e6fed464-a2c4-456a-b99b-a7069bde93c6",
   "metadata": {},
   "outputs": [],
   "source": [
    "# ウォレットファイルを使用する場合は、`wallet_location` に zip ファイルのパスを指定する。\n",
    "connection_parameters = {\n",
    "    \"user_name\": \"oml_user\",\n",
    "    \"password\": \"\",\n",
    "    \"service_name\": \"adwml_high\",\n",
    "    \"wallet_location\": \"/home/datascience/Wallet_ADWML.zip\",\n",
    "}"
   ]
  },
  {
   "cell_type": "code",
   "execution_count": 4,
   "id": "29d90b7b-b67f-4f75-beaf-3710800f3264",
   "metadata": {
    "tags": []
   },
   "outputs": [],
   "source": [
    "# ADWのテーブルからデータを抽出し、データセットを作成する。\n",
    "import ads\n",
    "\n",
    "df = pd.DataFrame.ads.read_sql(\n",
    "    \"SELECT * FROM oml_user.トレニング\",\n",
    "    connection_parameters=connection_parameters,\n",
    ")"
   ]
  },
  {
   "cell_type": "code",
   "execution_count": 5,
   "id": "7d2bda67-8df6-4bc9-88c2-4673ab3a00b6",
   "metadata": {
    "tags": []
   },
   "outputs": [
    {
     "name": "stdout",
     "output_type": "stream",
     "text": [
      "X_train shape: (63968, 9)\n",
      "X_test shape: (15992, 9)\n",
      "y_train shape: (63968,)\n",
      "y_test shape: (15992,)\n",
      "        クレジット利用率  クレジット履歴年齢      毎月の投資額        月次残高          年収          月額手当  \\\n",
      "34383  26.765401        390  376.073072  765.039178  105997.470   8711.122500   \n",
      "33548  39.652274        335  753.362868  498.082941  143252.760  12131.730000   \n",
      "21982  32.046885        188  170.334070  426.535562   54420.450   4681.037500   \n",
      "16871  35.969331        234  238.824131  689.996171  108491.280   9272.940000   \n",
      "18817  26.818588        347   86.765946  405.472766   53003.180   4275.931667   \n",
      "...          ...        ...         ...         ...         ...           ...   \n",
      "6265   31.075220        394  103.522443  456.461896   43592.450   3758.704167   \n",
      "54886  25.287418        150   72.941844  312.800973    9917.025   1099.418750   \n",
      "76820  39.873482        170   77.310889  309.023358   42216.930   3524.077500   \n",
      "860    33.471395        245  758.070487  229.212547  100433.580   8074.465000   \n",
      "15795  36.421409         94   17.407693  273.072437   10037.735    871.477917   \n",
      "\n",
      "       変更したクレジット限度額    未払い債務     月額合計EMI  \n",
      "34383          2.85  1023.62    0.000000  \n",
      "33548          9.50  1186.86  251.727191  \n",
      "21982         12.50   645.77  121.234118  \n",
      "16871          5.94   973.25  238.473698  \n",
      "18817          2.84  1387.17  175.354455  \n",
      "...             ...      ...         ...  \n",
      "6265           4.53   793.39   95.886078  \n",
      "54886         13.96  1065.19   14.199058  \n",
      "76820         19.95  1890.92  206.073504  \n",
      "860           11.59  1023.93  100.163466  \n",
      "15795         17.17  3052.44   36.667662  \n",
      "\n",
      "[63968 rows x 9 columns]\n",
      "34383    高い\n",
      "33548    高い\n",
      "21982     中\n",
      "16871     中\n",
      "18817     中\n",
      "         ..\n",
      "6265      中\n",
      "54886     中\n",
      "76820    低い\n",
      "860       中\n",
      "15795    低い\n",
      "Name: 顧客優先順位, Length: 63968, dtype: object\n"
     ]
    }
   ],
   "source": [
    "# 特徴列の抽出「ターゲット列の削除」\n",
    "X = df.drop(columns=['顧客優先順位'])\n",
    "\n",
    "# ターゲット列の抽出\n",
    "y = df['顧客優先順位']\n",
    "\n",
    "from sklearn.model_selection import train_test_split\n",
    "\n",
    "# データセットを分割し、80%をトレーニング用、20%をテスト用にする。\n",
    "X_train, X_test, y_train, y_test = train_test_split(X, y, test_size=0.2, random_state=42)\n",
    "\n",
    "# 分割データセット情報を表示する。\n",
    "print(\"X_train shape:\", X_train.shape)\n",
    "print(\"X_test shape:\", X_test.shape)\n",
    "print(\"y_train shape:\", y_train.shape)\n",
    "print(\"y_test shape:\", y_test.shape)\n",
    "\n",
    "# トレーニングセットデータの一部を表示する。\n",
    "print(X_train)\n",
    "print(y_train)"
   ]
  },
  {
   "cell_type": "code",
   "execution_count": 6,
   "id": "d041575d-44f6-496f-9e79-622c47e012f9",
   "metadata": {
    "tags": []
   },
   "outputs": [],
   "source": [
    "init(engine='local')"
   ]
  },
  {
   "cell_type": "code",
   "execution_count": 7,
   "id": "7dca6b38-c463-43ae-8555-2e5385605317",
   "metadata": {
    "tags": []
   },
   "outputs": [
    {
     "name": "stdout",
     "output_type": "stream",
     "text": [
      "[2024-07-23 02:40:27,831] [automlx.interface] Dataset shape: (63968,9)\n",
      "[2024-07-23 02:40:27,920] [automlx.data_transform] Running preprocessing. Number of features: 10\n",
      "[2024-07-23 02:40:28,189] [automlx.data_transform] Preprocessing completed. Took 0.268 secs\n",
      "[2024-07-23 02:40:28,258] [automlx.process] Running Model Generation\n",
      "[2024-07-23 02:40:28,302] [automlx] Provided model (TorchMLPClassifier) is not supported.Supported models are: ['CatBoostClassifier', 'LGBMClassifier', 'SVC', 'AdaBoostClassifier', 'DecisionTreeClassifier', 'ExtraTreesClassifier', 'GaussianNB', 'GradientBoostingClassifier', 'KNeighborsClassifier', 'LinearSVC', 'LogisticRegressionClassifier', 'RandomForestClassifier', 'XGBClassifier']\n",
      "[2024-07-23 02:40:28,302] [automlx.process] KNeighborsClassifier is disabled. The KNeighborsClassifier model is only recommended for datasets with less than 10000 samples and 1000 features.\n",
      "[2024-07-23 02:40:28,303] [automlx.process] SVC is disabled. The SVC model is only recommended for datasets with less than 10000 samples and 1000 features.\n",
      "[2024-07-23 02:40:28,304] [automlx.process] Model Generation completed.\n",
      "[2024-07-23 02:40:28,317] [automlx.model_selection] Running Model Selection\n",
      "[2024-07-23 02:41:07,312] [automlx.model_selection] Model Selection completed - Took 38.995 sec - Selected models: ['RandomForestClassifier']\n",
      "[2024-07-23 02:41:07,343] [automlx.adaptive_sampling] Running Adaptive Sampling. Dataset shape: (63968,10).\n",
      "[2024-07-23 02:41:46,749] [automlx.trials] Adaptive Sampling completed - Took 39.4067 sec.\n",
      "[2024-07-23 02:41:46,836] [automlx.feature_selection] Starting feature ranking for RandomForestClassifier\n",
      "[2024-07-23 02:43:16,041] [automlx.feature_selection] Feature Selection completed. Took 89.239 secs.\n",
      "[2024-07-23 02:43:16,078] [automlx.trials] Running Model Tuning for ['RandomForestClassifier']\n",
      "[2024-07-23 02:47:52,009] [automlx.trials] Best parameters for RandomForestClassifier: {'n_estimators': 252, 'min_samples_split': 5.682141030740383e-05, 'min_samples_leaf': 2.8410705153701913e-05, 'max_features': 0.14285714285714285, 'class_weight': 'balanced'}\n",
      "[2024-07-23 02:47:52,013] [automlx.trials] Model Tuning completed. Took: 275.935 secs\n",
      "[2024-07-23 02:47:56,927] [automlx.interface] Re-fitting pipeline\n",
      "[2024-07-23 02:48:00,171] [automlx.interface] AutoMLx completed.\n"
     ]
    },
    {
     "data": {
      "text/plain": [
       "<automlx._interface.classifier.AutoClassifier at 0x7f0f49cec460>"
      ]
     },
     "execution_count": 7,
     "metadata": {},
     "output_type": "execute_result"
    }
   ],
   "source": [
    "# automlxの自動機械学習機能を利用して、分類のモデルを作成する。\n",
    "est1 = automlx.Pipeline(task='classification')\n",
    "est1.fit(X_train, y_train)"
   ]
  },
  {
   "cell_type": "code",
   "execution_count": 8,
   "id": "b5fe3c3b-cf36-4879-a814-44fcb7fec5c8",
   "metadata": {
    "tags": []
   },
   "outputs": [
    {
     "name": "stdout",
     "output_type": "stream",
     "text": [
      "Score on test data : 0.910922612973947\n"
     ]
    }
   ],
   "source": [
    "# モデルの精度を算出する。\n",
    "y_proba = est1.predict_proba(X_test)\n",
    "score_default = roc_auc_score(y_test, y_proba, multi_class='ovr')\n",
    "\n",
    "print(f'Score on test data : {score_default}')"
   ]
  },
  {
   "cell_type": "markdown",
   "id": "68870de2-5e7a-4e58-9fa6-b09f67401fac",
   "metadata": {
    "tags": []
   },
   "source": [
    "<summary><font size=\"5\">ここから、自動機械学習で作成したモデルをOCIにデプロイします。</font></summary>"
   ]
  },
  {
   "cell_type": "code",
   "execution_count": 9,
   "id": "2bd8dbc8-fbc5-4ec2-bd47-a9e616a058e2",
   "metadata": {
    "tags": []
   },
   "outputs": [],
   "source": [
    "import ads\n",
    "import logging\n",
    "import os\n",
    "import random\n",
    "import tempfile\n",
    "import warnings\n",
    "\n",
    "from ads.common.model_metadata import UseCaseType\n",
    "from ads.model.generic_model import GenericModel\n",
    "from shutil import rmtree\n",
    "\n",
    "logging.basicConfig(format=\"%(levelname)s:%(message)s\", level=logging.ERROR)\n",
    "warnings.filterwarnings(\"ignore\")"
   ]
  },
  {
   "cell_type": "code",
   "execution_count": 10,
   "id": "8180ea4b-e48f-4fd4-818e-e8d6da444c5f",
   "metadata": {
    "tags": []
   },
   "outputs": [],
   "source": [
    "ads.set_auth(auth=\"resource_principal\")"
   ]
  },
  {
   "cell_type": "code",
   "execution_count": 11,
   "id": "4d5b0cb6-e289-486b-820f-30e4e246828e",
   "metadata": {
    "tags": []
   },
   "outputs": [
    {
     "name": "stdout",
     "output_type": "stream",
     "text": [
      "Model artifact director: /tmp/tmp_vv0358q\n",
      "[2024-07-23 03:00:49,588] [ads.common] In the future model input will be serialized by `cloudpickle` by default. Currently, model input are serialized into a dictionary containing serialized input data and original data type information.Set `model_input_serializer=\"cloudpickle\"` to use cloudpickle model input serializer.\n"
     ]
    }
   ],
   "source": [
    "artifact_dir = tempfile.mkdtemp()\n",
    "print(f\"Model artifact director: {artifact_dir}\")\n",
    "generic_model = GenericModel(estimator=est1, artifact_dir=artifact_dir)"
   ]
  },
  {
   "cell_type": "code",
   "execution_count": 12,
   "id": "60203983-86a8-417f-bd0e-5cc860efe16b",
   "metadata": {
    "tags": []
   },
   "outputs": [
    {
     "name": "stdout",
     "output_type": "stream",
     "text": [
      "                                                                                                                                                                                                      ?, ?it/s]\r"
     ]
    },
    {
     "data": {
      "text/plain": [
       "algorithm: null\n",
       "artifact_dir:\n",
       "  /tmp/tmp_vv0358q:\n",
       "  - - output_schema.json\n",
       "    - .model-ignore\n",
       "    - model.pkl\n",
       "    - runtime.yaml\n",
       "    - score.py\n",
       "    - input_schema.json\n",
       "framework: null\n",
       "model_deployment_id: null\n",
       "model_id: null"
      ]
     },
     "execution_count": 12,
     "metadata": {},
     "output_type": "execute_result"
    }
   ],
   "source": [
    "conda_env = \"automlx242_p38_cpu_x86_64_v1\"\n",
    "\n",
    "generic_model.prepare(\n",
    "    inference_conda_env=conda_env,\n",
    "    training_conda_env=conda_env,\n",
    "    use_case_type=UseCaseType.MULTINOMIAL_CLASSIFICATION,\n",
    "    X_sample=X_test,\n",
    "    y_sample=y_test,\n",
    "    force_overwrite=True\n",
    ")"
   ]
  },
  {
   "cell_type": "code",
   "execution_count": 13,
   "id": "8122ee72-367a-4b45-be99-8e76922ce098",
   "metadata": {
    "tags": []
   },
   "outputs": [
    {
     "data": {
      "text/plain": [
       "['output_schema.json',\n",
       " '.model-ignore',\n",
       " 'model.pkl',\n",
       " 'runtime.yaml',\n",
       " 'score.py',\n",
       " 'input_schema.json']"
      ]
     },
     "execution_count": 13,
     "metadata": {},
     "output_type": "execute_result"
    }
   ],
   "source": [
    "os.listdir(artifact_dir)"
   ]
  },
  {
   "cell_type": "code",
   "execution_count": 14,
   "id": "32628670-33f8-4d11-a626-4f3f37708dfe",
   "metadata": {
    "tags": []
   },
   "outputs": [
    {
     "name": "stdout",
     "output_type": "stream",
     "text": [
      "Start loading model.pkl from model directory /tmp/tmp_vv0358q ...\n",
      "Model is successfully loaded.\n"
     ]
    },
    {
     "data": {
      "text/plain": [
       "{'prediction': ['低い', '高い']}"
      ]
     },
     "execution_count": 14,
     "metadata": {},
     "output_type": "execute_result"
    }
   ],
   "source": [
    "generic_model.verify(X_test.iloc[:2], auto_serialize_data=True)"
   ]
  },
  {
   "cell_type": "code",
   "execution_count": 15,
   "id": "a552be72-d455-4f7f-99a7-3f0999c8287c",
   "metadata": {
    "tags": []
   },
   "outputs": [
    {
     "name": "stdout",
     "output_type": "stream",
     "text": [
      "Start loading model.pkl from model directory /tmp/tmp_vv0358q ...\n",
      "Model is successfully loaded.\n",
      "['output_schema.json', '.model-ignore', 'model.pkl', 'runtime.yaml', 'score.py', 'input_schema.json']\n"
     ]
    },
    {
     "data": {
      "application/vnd.jupyter.widget-view+json": {
       "model_id": "c3c2036466ea46abb759341f40f1ff55",
       "version_major": 2,
       "version_minor": 0
      },
      "text/plain": [
       "loop1:   0%|          | 0/4 [00:00<?, ?it/s]"
      ]
     },
     "metadata": {},
     "output_type": "display_data"
    },
    {
     "name": "stdout",
     "output_type": "stream",
     "text": [
      "[2024-07-23 03:04:34,159] [ads.model.datascience_model] the JSON object must be str, bytes or bytearray, not Schema\n",
      "[2024-07-23 03:04:34,160] [ads.model.datascience_model] the JSON object must be str, bytes or bytearray, not Schema\n"
     ]
    }
   ],
   "source": [
    "# モデルをカテゴリに保存する。\n",
    "model_id = generic_model.save(display_name=\"OACとData Science Cloudでの顧客優先順位判断1.0\")"
   ]
  },
  {
   "cell_type": "code",
   "execution_count": 16,
   "id": "94b42042-34ca-4ebe-ab1d-90011849c303",
   "metadata": {
    "tags": []
   },
   "outputs": [
    {
     "name": "stdout",
     "output_type": "stream",
     "text": [
      "Model Deployment OCID: ocid1.datasciencemodeldeployment.oc1.ap-tokyo-1.amaaaaaaak7gbriatbefqwjzkgz6xvv24qeposxmxbt7tpejwdukjmizwh3a\n"
     ]
    },
    {
     "data": {
      "application/vnd.jupyter.widget-view+json": {
       "model_id": "10320066dfc14f72bfa8598cdd73b248",
       "version_major": 2,
       "version_minor": 0
      },
      "text/plain": [
       "Creating model deployment:   0%|          | [00:00<?, ?it/s]"
      ]
     },
     "metadata": {},
     "output_type": "display_data"
    }
   ],
   "source": [
    "# モデルをOCIにデプロイする。\n",
    "deploy = generic_model.deploy(display_name=\"OACとData Science Cloudでの顧客優先順位判断1.0\")"
   ]
  },
  {
   "cell_type": "code",
   "execution_count": 17,
   "id": "db52cd6d-ff89-478e-be6a-892492acc823",
   "metadata": {
    "tags": []
   },
   "outputs": [
    {
     "data": {
      "text/html": [
       "<div>\n",
       "<style scoped>\n",
       "    .dataframe tbody tr th:only-of-type {\n",
       "        vertical-align: middle;\n",
       "    }\n",
       "\n",
       "    .dataframe tbody tr th {\n",
       "        vertical-align: top;\n",
       "    }\n",
       "\n",
       "    .dataframe thead th {\n",
       "        text-align: right;\n",
       "    }\n",
       "</style>\n",
       "<table border=\"1\" class=\"dataframe\">\n",
       "  <thead>\n",
       "    <tr style=\"text-align: right;\">\n",
       "      <th></th>\n",
       "      <th></th>\n",
       "      <th></th>\n",
       "      <th>Actions Needed</th>\n",
       "    </tr>\n",
       "    <tr>\n",
       "      <th>Step</th>\n",
       "      <th>Status</th>\n",
       "      <th>Details</th>\n",
       "      <th></th>\n",
       "    </tr>\n",
       "  </thead>\n",
       "  <tbody>\n",
       "    <tr>\n",
       "      <th>initiate</th>\n",
       "      <th>Done</th>\n",
       "      <th>Initiated the model</th>\n",
       "      <td></td>\n",
       "    </tr>\n",
       "    <tr>\n",
       "      <th rowspan=\"4\" valign=\"top\">prepare()</th>\n",
       "      <th rowspan=\"4\" valign=\"top\">Done</th>\n",
       "      <th>Generated runtime.yaml</th>\n",
       "      <td></td>\n",
       "    </tr>\n",
       "    <tr>\n",
       "      <th>Generated score.py</th>\n",
       "      <td></td>\n",
       "    </tr>\n",
       "    <tr>\n",
       "      <th>Serialized model</th>\n",
       "      <td></td>\n",
       "    </tr>\n",
       "    <tr>\n",
       "      <th>Populated metadata(Custom, Taxonomy and Provenance)</th>\n",
       "      <td></td>\n",
       "    </tr>\n",
       "    <tr>\n",
       "      <th>verify()</th>\n",
       "      <th>Done</th>\n",
       "      <th>Local tested .predict from score.py</th>\n",
       "      <td></td>\n",
       "    </tr>\n",
       "    <tr>\n",
       "      <th rowspan=\"2\" valign=\"top\">save()</th>\n",
       "      <th rowspan=\"2\" valign=\"top\">Done</th>\n",
       "      <th>Conducted Introspect Test</th>\n",
       "      <td></td>\n",
       "    </tr>\n",
       "    <tr>\n",
       "      <th>Uploaded artifact to model catalog</th>\n",
       "      <td></td>\n",
       "    </tr>\n",
       "    <tr>\n",
       "      <th>deploy()</th>\n",
       "      <th>ACTIVE</th>\n",
       "      <th>Deployed the model</th>\n",
       "      <td></td>\n",
       "    </tr>\n",
       "    <tr>\n",
       "      <th>predict()</th>\n",
       "      <th>Available</th>\n",
       "      <th>Called deployment predict endpoint</th>\n",
       "      <td></td>\n",
       "    </tr>\n",
       "  </tbody>\n",
       "</table>\n",
       "</div>"
      ],
      "text/plain": [
       "                                                                        Actions Needed\n",
       "Step      Status    Details                                                           \n",
       "initiate  Done      Initiated the model                                               \n",
       "prepare() Done      Generated runtime.yaml                                            \n",
       "                    Generated score.py                                                \n",
       "                    Serialized model                                                  \n",
       "                    Populated metadata(Custom, Taxonomy and Provenance)               \n",
       "verify()  Done      Local tested .predict from score.py                               \n",
       "save()    Done      Conducted Introspect Test                                         \n",
       "                    Uploaded artifact to model catalog                                \n",
       "deploy()  ACTIVE    Deployed the model                                                \n",
       "predict() Available Called deployment predict endpoint                                "
      ]
     },
     "execution_count": 17,
     "metadata": {},
     "output_type": "execute_result"
    }
   ],
   "source": [
    "# デプロイの結果を確認する。\n",
    "generic_model.summary_status()"
   ]
  },
  {
   "cell_type": "code",
   "execution_count": 18,
   "id": "2ac0e159-8687-41c6-b382-8c9443338fa4",
   "metadata": {
    "tags": []
   },
   "outputs": [
    {
     "data": {
      "text/plain": [
       "{'prediction': ['低い', '高い']}"
      ]
     },
     "execution_count": 18,
     "metadata": {},
     "output_type": "execute_result"
    }
   ],
   "source": [
    "# デプロイしたモデルをテストする。\n",
    "generic_model.predict(X_test.iloc[:2], auto_serialize_data=True)"
   ]
  },
  {
   "cell_type": "markdown",
   "id": "51a6591c-8c5f-4d40-9118-bf729e1e3471",
   "metadata": {
    "tags": []
   },
   "source": [
    "<summary><font size=\"5\">ここから、デプロイされたAutoMLモデルを呼び出し、顧客の優先順位を予測します。優先順位の高い顧客を先に訪問します。</font></summary>"
   ]
  },
  {
   "cell_type": "code",
   "execution_count": 22,
   "id": "a494e1af-286d-4ba7-b79d-d8fe513efafb",
   "metadata": {
    "tags": []
   },
   "outputs": [],
   "source": [
    "connection_parameters = {\n",
    "    \"user_name\": \"oml_user\",\n",
    "    \"password\": \"\",\n",
    "    \"service_name\": \"adwml_high\",\n",
    "    \"wallet_location\": \"/home/datascience/Wallet_ADWML.zip\",\n",
    "}"
   ]
  },
  {
   "cell_type": "code",
   "execution_count": 23,
   "id": "b67b9e09-6000-4b94-8cc8-9c2c61a1d01d",
   "metadata": {
    "tags": []
   },
   "outputs": [],
   "source": [
    "import ads\n",
    "import pandas as pd\n",
    "\n",
    "# モデルで予測する顧客のデータをADWのテーブルから抽出する。\n",
    "df = pd.DataFrame.ads.read_sql(\n",
    "    \"SELECT * FROM oml_user.テスト\",\n",
    "    connection_parameters=connection_parameters,\n",
    ")"
   ]
  },
  {
   "cell_type": "code",
   "execution_count": 24,
   "id": "aeb591c6-cf6e-45f3-9005-9e9a59f2e9e0",
   "metadata": {
    "tags": []
   },
   "outputs": [],
   "source": [
    "X_NewCustomer = df.drop(columns=['顧客優先順位'])\n",
    "\n",
    "y_NewCustomer = df['顧客優先順位']"
   ]
  },
  {
   "cell_type": "code",
   "execution_count": 25,
   "id": "0eba8d7f-aed1-45c6-9081-11fb78b6588a",
   "metadata": {
    "tags": []
   },
   "outputs": [
    {
     "data": {
      "text/html": [
       "<div>\n",
       "<style scoped>\n",
       "    .dataframe tbody tr th:only-of-type {\n",
       "        vertical-align: middle;\n",
       "    }\n",
       "\n",
       "    .dataframe tbody tr th {\n",
       "        vertical-align: top;\n",
       "    }\n",
       "\n",
       "    .dataframe thead th {\n",
       "        text-align: right;\n",
       "    }\n",
       "</style>\n",
       "<table border=\"1\" class=\"dataframe\">\n",
       "  <thead>\n",
       "    <tr style=\"text-align: right;\">\n",
       "      <th></th>\n",
       "      <th>クレジット利用率</th>\n",
       "      <th>クレジット履歴年齢</th>\n",
       "      <th>毎月の投資額</th>\n",
       "      <th>月次残高</th>\n",
       "      <th>年収</th>\n",
       "      <th>月額手当</th>\n",
       "      <th>変更したクレジット限度額</th>\n",
       "      <th>未払い債務</th>\n",
       "      <th>月額合計EMI</th>\n",
       "    </tr>\n",
       "  </thead>\n",
       "  <tbody>\n",
       "    <tr>\n",
       "      <th>0</th>\n",
       "      <td>33.703590</td>\n",
       "      <td>274</td>\n",
       "      <td>93.844445</td>\n",
       "      <td>819.864338</td>\n",
       "      <td>88088.070</td>\n",
       "      <td>7248.672500</td>\n",
       "      <td>8.27</td>\n",
       "      <td>195.23</td>\n",
       "      <td>51.158467</td>\n",
       "    </tr>\n",
       "    <tr>\n",
       "      <th>1</th>\n",
       "      <td>29.115004</td>\n",
       "      <td>345</td>\n",
       "      <td>153.143286</td>\n",
       "      <td>388.327790</td>\n",
       "      <td>56125.500</td>\n",
       "      <td>4875.125000</td>\n",
       "      <td>17.89</td>\n",
       "      <td>370.22</td>\n",
       "      <td>81.822857</td>\n",
       "    </tr>\n",
       "    <tr>\n",
       "      <th>2</th>\n",
       "      <td>24.352594</td>\n",
       "      <td>165</td>\n",
       "      <td>43.781298</td>\n",
       "      <td>365.958624</td>\n",
       "      <td>32198.230</td>\n",
       "      <td>2862.185833</td>\n",
       "      <td>18.27</td>\n",
       "      <td>857.14</td>\n",
       "      <td>126.478662</td>\n",
       "    </tr>\n",
       "    <tr>\n",
       "      <th>3</th>\n",
       "      <td>23.153949</td>\n",
       "      <td>279</td>\n",
       "      <td>81.378283</td>\n",
       "      <td>302.989946</td>\n",
       "      <td>12246.215</td>\n",
       "      <td>1181.517917</td>\n",
       "      <td>9.32</td>\n",
       "      <td>641.98</td>\n",
       "      <td>13.783563</td>\n",
       "    </tr>\n",
       "    <tr>\n",
       "      <th>4</th>\n",
       "      <td>28.711566</td>\n",
       "      <td>355</td>\n",
       "      <td>331.949599</td>\n",
       "      <td>161.202087</td>\n",
       "      <td>31040.140</td>\n",
       "      <td>2474.678333</td>\n",
       "      <td>13.77</td>\n",
       "      <td>1288.66</td>\n",
       "      <td>44.316148</td>\n",
       "    </tr>\n",
       "    <tr>\n",
       "      <th>...</th>\n",
       "      <td>...</td>\n",
       "      <td>...</td>\n",
       "      <td>...</td>\n",
       "      <td>...</td>\n",
       "      <td>...</td>\n",
       "      <td>...</td>\n",
       "      <td>...</td>\n",
       "      <td>...</td>\n",
       "      <td>...</td>\n",
       "    </tr>\n",
       "    <tr>\n",
       "      <th>19995</th>\n",
       "      <td>27.163649</td>\n",
       "      <td>382</td>\n",
       "      <td>71.054239</td>\n",
       "      <td>457.854743</td>\n",
       "      <td>31741.570</td>\n",
       "      <td>2858.130833</td>\n",
       "      <td>7.78</td>\n",
       "      <td>1231.17</td>\n",
       "      <td>16.904101</td>\n",
       "    </tr>\n",
       "    <tr>\n",
       "      <th>19996</th>\n",
       "      <td>29.655650</td>\n",
       "      <td>256</td>\n",
       "      <td>1271.089453</td>\n",
       "      <td>49.736069</td>\n",
       "      <td>172534.160</td>\n",
       "      <td>14344.846667</td>\n",
       "      <td>5.99</td>\n",
       "      <td>1343.50</td>\n",
       "      <td>393.659144</td>\n",
       "    </tr>\n",
       "    <tr>\n",
       "      <th>19997</th>\n",
       "      <td>33.066420</td>\n",
       "      <td>377</td>\n",
       "      <td>174.002546</td>\n",
       "      <td>344.186454</td>\n",
       "      <td>28762.680</td>\n",
       "      <td>2281.890000</td>\n",
       "      <td>15.23</td>\n",
       "      <td>1391.77</td>\n",
       "      <td>0.000000</td>\n",
       "    </tr>\n",
       "    <tr>\n",
       "      <th>19998</th>\n",
       "      <td>30.934892</td>\n",
       "      <td>142</td>\n",
       "      <td>147.426314</td>\n",
       "      <td>221.598191</td>\n",
       "      <td>20592.970</td>\n",
       "      <td>1843.080833</td>\n",
       "      <td>19.78</td>\n",
       "      <td>1555.94</td>\n",
       "      <td>85.283579</td>\n",
       "    </tr>\n",
       "    <tr>\n",
       "      <th>19999</th>\n",
       "      <td>35.682471</td>\n",
       "      <td>247</td>\n",
       "      <td>74.056233</td>\n",
       "      <td>461.459350</td>\n",
       "      <td>33049.870</td>\n",
       "      <td>2955.155833</td>\n",
       "      <td>1.30</td>\n",
       "      <td>692.75</td>\n",
       "      <td>0.000000</td>\n",
       "    </tr>\n",
       "  </tbody>\n",
       "</table>\n",
       "<p>20000 rows × 9 columns</p>\n",
       "</div>"
      ],
      "text/plain": [
       "        クレジット利用率  クレジット履歴年齢       毎月の投資額        月次残高          年収  \\\n",
       "0      33.703590        274    93.844445  819.864338   88088.070   \n",
       "1      29.115004        345   153.143286  388.327790   56125.500   \n",
       "2      24.352594        165    43.781298  365.958624   32198.230   \n",
       "3      23.153949        279    81.378283  302.989946   12246.215   \n",
       "4      28.711566        355   331.949599  161.202087   31040.140   \n",
       "...          ...        ...          ...         ...         ...   \n",
       "19995  27.163649        382    71.054239  457.854743   31741.570   \n",
       "19996  29.655650        256  1271.089453   49.736069  172534.160   \n",
       "19997  33.066420        377   174.002546  344.186454   28762.680   \n",
       "19998  30.934892        142   147.426314  221.598191   20592.970   \n",
       "19999  35.682471        247    74.056233  461.459350   33049.870   \n",
       "\n",
       "               月額手当  変更したクレジット限度額    未払い債務     月額合計EMI  \n",
       "0       7248.672500          8.27   195.23   51.158467  \n",
       "1       4875.125000         17.89   370.22   81.822857  \n",
       "2       2862.185833         18.27   857.14  126.478662  \n",
       "3       1181.517917          9.32   641.98   13.783563  \n",
       "4       2474.678333         13.77  1288.66   44.316148  \n",
       "...             ...           ...      ...         ...  \n",
       "19995   2858.130833          7.78  1231.17   16.904101  \n",
       "19996  14344.846667          5.99  1343.50  393.659144  \n",
       "19997   2281.890000         15.23  1391.77    0.000000  \n",
       "19998   1843.080833         19.78  1555.94   85.283579  \n",
       "19999   2955.155833          1.30   692.75    0.000000  \n",
       "\n",
       "[20000 rows x 9 columns]"
      ]
     },
     "execution_count": 25,
     "metadata": {},
     "output_type": "execute_result"
    }
   ],
   "source": [
    "# 予測する顧客の特徴量データを確認する。\n",
    "X_NewCustomer"
   ]
  },
  {
   "cell_type": "code",
   "execution_count": 27,
   "id": "4288986b-68e5-48f0-917f-c4c0f7ad541a",
   "metadata": {},
   "outputs": [
    {
     "name": "stdout",
     "output_type": "stream",
     "text": [
      "[2024-07-23 04:20:37,836] [ads.model.datascience_model] the JSON object must be str, bytes or bytearray, not Schema\n",
      "[2024-07-23 04:20:37,837] [ads.model.datascience_model] the JSON object must be str, bytes or bytearray, not Schema\n"
     ]
    },
    {
     "data": {
      "application/vnd.jupyter.widget-view+json": {
       "model_id": "bdfd8ae2a3f44bc9af55739b139c135f",
       "version_major": 2,
       "version_minor": 0
      },
      "text/plain": [
       "loop1:   0%|          | 0/4 [00:00<?, ?it/s]"
      ]
     },
     "metadata": {},
     "output_type": "display_data"
    },
    {
     "name": "stdout",
     "output_type": "stream",
     "text": [
      "[2024-07-23 04:21:39,317] [ads.common] In the future model input will be serialized by `cloudpickle` by default. Currently, model input are serialized into a dictionary containing serialized input data and original data type information.Set `model_input_serializer=\"cloudpickle\"` to use cloudpickle model input serializer.\n"
     ]
    }
   ],
   "source": [
    "from ads.model.generic_model import GenericModel\n",
    "\n",
    "generic_model_NewCustomer = GenericModel.from_model_deployment(\n",
    "    \"ocid1.datasciencemodeldeployment.oc1.ap-tokyo-1.amaaaaaaak7gbriatbefqwjzkgz6xvv24qeposxmxbt7tpejwdukjmizwh3a\",\n",
    "    model_file_name=\"model.joblib\",\n",
    "    artifact_dir=\"ocid1.datasciencemodel.oc1.ap-tokyo-1.amaaaaaaak7gbriarp7artmflsrul22nn4pfrkzvywuyxodbmdldbuhzwp3q.zip\",\n",
    "    force_overwrite=True,\n",
    ")"
   ]
  },
  {
   "cell_type": "code",
   "execution_count": 28,
   "id": "077a72ef-ab4f-4d5c-9fa6-45d6130ffccc",
   "metadata": {
    "tags": []
   },
   "outputs": [
    {
     "name": "stdout",
     "output_type": "stream",
     "text": [
      "        クレジット利用率  クレジット履歴年齢       毎月の投資額        月次残高          年収  \\\n",
      "0      33.703590        274    93.844445  819.864338   88088.070   \n",
      "1      29.115004        345   153.143286  388.327790   56125.500   \n",
      "2      24.352594        165    43.781298  365.958624   32198.230   \n",
      "3      23.153949        279    81.378283  302.989946   12246.215   \n",
      "4      28.711566        355   331.949599  161.202087   31040.140   \n",
      "...          ...        ...          ...         ...         ...   \n",
      "19995  27.163649        382    71.054239  457.854743   31741.570   \n",
      "19996  29.655650        256  1271.089453   49.736069  172534.160   \n",
      "19997  33.066420        377   174.002546  344.186454   28762.680   \n",
      "19998  30.934892        142   147.426314  221.598191   20592.970   \n",
      "19999  35.682471        247    74.056233  461.459350   33049.870   \n",
      "\n",
      "               月額手当  変更したクレジット限度額    未払い債務     月額合計EMI 予測した顧客優先順位  \n",
      "0       7248.672500          8.27   195.23   51.158467          中  \n",
      "1       4875.125000         17.89   370.22   81.822857          中  \n",
      "2       2862.185833         18.27   857.14  126.478662          中  \n",
      "3       1181.517917          9.32   641.98   13.783563          中  \n",
      "4       2474.678333         13.77  1288.66   44.316148          中  \n",
      "...             ...           ...      ...         ...        ...  \n",
      "19995   2858.130833          7.78  1231.17   16.904101          中  \n",
      "19996  14344.846667          5.99  1343.50  393.659144         高い  \n",
      "19997   2281.890000         15.23  1391.77    0.000000          中  \n",
      "19998   1843.080833         19.78  1555.94   85.283579         低い  \n",
      "19999   2955.155833          1.30   692.75    0.000000         低い  \n",
      "\n",
      "[20000 rows x 10 columns]\n"
     ]
    }
   ],
   "source": [
    "# 顧客の特徴データで優先順位を予測する。\n",
    "predictions = generic_model_NewCustomer.predict(X_NewCustomer, auto_serialize_data=True)\n",
    "\n",
    "# 予測結果をDataFrameに変換する。\n",
    "pred_df = pd.DataFrame(predictions)\n",
    "\n",
    "# `X_NewCustomer`に予測結果を追加する。\n",
    "X_NewCustomer_with_predictions = X_NewCustomer.copy()\n",
    "X_NewCustomer_with_predictions['予測した顧客優先順位'] = pred_df['prediction']\n",
    "\n",
    "# 新しいデータフレームを表示する。\n",
    "print(X_NewCustomer_with_predictions)"
   ]
  },
  {
   "cell_type": "code",
   "execution_count": 36,
   "id": "ada027e3-2767-4667-81ab-898765a6a096",
   "metadata": {
    "tags": []
   },
   "outputs": [],
   "source": [
    "# 予測した結果をADWに保存する。\n",
    "X_NewCustomer_with_predictions['顧客ID'] = X_NewCustomer_with_predictions.index + 1\n",
    "\n",
    "X_NewCustomer_with_predictions.ads.to_sql(\n",
    "    \"予測結果\",\n",
    "    connection_parameters=connection_parameters, # Should contain wallet location if you are connecting to ADB\n",
    "    if_exists=\"replace\"\n",
    ")"
   ]
  },
  {
   "cell_type": "code",
   "execution_count": 71,
   "id": "334ae0f9-2799-46bc-9161-f0e8ed873ff6",
   "metadata": {
    "tags": []
   },
   "outputs": [
    {
     "name": "stdout",
     "output_type": "stream",
     "text": [
      "予測結果の数: 20000\n",
      "実際値の数: 20000\n",
      "精度スコア: 0.7956540828640349\n"
     ]
    }
   ],
   "source": [
    "from sklearn.metrics import precision_score\n",
    "import numpy as np\n",
    "\n",
    "# dictから予測ラベルを抽出する\n",
    "predictions_dict = generic_model_NewCustomer.predict(X_NewCustomer, auto_serialize_data=True)\n",
    "predictions = predictions_dict.get('prediction', [])\n",
    "\n",
    "# 予測結果の長さを出力する\n",
    "print(f\"予測結果の数: {len(predictions)}\")\n",
    "\n",
    "# 予測結果を NumPy に変換する\n",
    "predictions = np.array(predictions)\n",
    "\n",
    "# 実際の値\n",
    "y_NewCustomer = df['顧客優先順位'].values\n",
    "\n",
    "# y_NewCustomer が一維配列であることを確認する\n",
    "y_NewCustomer = np.ravel(y_NewCustomer)\n",
    "\n",
    "# 実際の値の長さを出力する\n",
    "print(f\"実際値の数: {len(y_NewCustomer)}\")\n",
    "\n",
    "# サンプル数が一致していることを確認する\n",
    "if len(predictions) == len(y_NewCustomer):\n",
    "    # 精度を計算する（実際値と予測値の形式が一致している必要がある）\n",
    "    # 予測値が数字でない場合（例: '低い', '中', '高い'）、数字形式に変換する必要がある\n",
    "    # 仮定: '低い': 0, '中': 1, '高い': 2\n",
    "    label_map = {'低い': 0, '中': 1, '高い': 2}\n",
    "    y_NewCustomer_numeric = np.array([label_map[label] for label in y_NewCustomer])\n",
    "    predictions_numeric = np.array([label_map[label] for label in predictions])\n",
    "\n",
    "    # 精度を計算する\n",
    "    precision = precision_score(y_NewCustomer_numeric, predictions_numeric, average='weighted')\n",
    "\n",
    "    # 精度を出力する\n",
    "    print(\"精度スコア:\", precision)\n",
    "else:\n",
    "    print(\"エラー: 予測値と実際の値のサンプル数が異なります。\")\n"
   ]
  },
  {
   "cell_type": "code",
   "execution_count": null,
   "id": "5d422d27-2529-48ed-a33a-6c109371753f",
   "metadata": {},
   "outputs": [],
   "source": []
  }
 ],
 "metadata": {
  "kernelspec": {
   "display_name": "Python [conda env:automlx242_p38_cpu_x86_64_v1]",
   "language": "python",
   "name": "conda-env-automlx242_p38_cpu_x86_64_v1-py"
  },
  "language_info": {
   "codemirror_mode": {
    "name": "ipython",
    "version": 3
   },
   "file_extension": ".py",
   "mimetype": "text/x-python",
   "name": "python",
   "nbconvert_exporter": "python",
   "pygments_lexer": "ipython3",
   "version": "3.8.16"
  }
 },
 "nbformat": 4,
 "nbformat_minor": 5
}
